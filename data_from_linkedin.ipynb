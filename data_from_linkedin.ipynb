{
 "cells": [
  {
   "cell_type": "code",
   "execution_count": 2,
   "metadata": {
    "tags": []
   },
   "outputs": [],
   "source": [
    "import vaex\n",
    "import matplotlib\n",
    "from vaex.ui.colormaps import cm_plusmin\n",
    "import matplotlib.pyplot as plt\n",
    "import numpy as np\n",
    "import seaborn as sns\n",
    "\n",
    "##routine to split csv, SLOW: Run one time and then comment the line!\n",
    "\n",
    "#df = vaex.from_csv(r'C:\\Users\\carlo\\Dropbox\\xampp2\\mysql\\data\\business_navigator\\companies-on-linkedin.csv', header=0, sep=';', convert=True, chunk_size=1_000_000)\n",
    "df = vaex.open(r'C:\\Users\\carlo\\Dropbox\\xampp2\\mysql\\data\\business_navigator\\companies-on-linkedin.csv.hdf5')"
   ]
  },
  {
   "cell_type": "code",
   "execution_count": 3,
   "metadata": {
    "tags": []
   },
   "outputs": [
    {
     "data": {
      "text/html": [
       "<style>.vaex-description pre {\n",
       "          max-width : 450px;\n",
       "          white-space : nowrap;\n",
       "          overflow : hidden;\n",
       "          text-overflow: ellipsis;\n",
       "        }\n",
       "\n",
       "        .vex-description pre:hover {\n",
       "          max-width : initial;\n",
       "          white-space: pre;\n",
       "        }</style>"
      ],
      "text/plain": [
       "<IPython.core.display.HTML object>"
      ]
     },
     "metadata": {},
     "output_type": "display_data"
    },
    {
     "data": {
      "text/html": [
       "<div><h2>companies-on-linkedin.csv</h2> <b>rows</b>: 7,173,431</div><div><b>path</b>: <i>C:\\Users\\carlo\\Dropbox\\xampp2\\mysql\\data\\business_navigator\\companies-on-linkedin.csv.hdf5</i></div><h2>Columns:</h2><table class='table-striped'><thead><tr><th>column</th><th>type</th><th>unit</th><th>description</th><th>expression</th></tr></thead><tr><td>Industry</td><td>str</td><td></td><td ><pre></pre></td><td></td></tr><tr><td>Locality</td><td>str</td><td></td><td ><pre></pre></td><td></td></tr><tr><td>Country</td><td>str</td><td></td><td ><pre></pre></td><td></td></tr><tr><td>Company_URL_domain</td><td>str</td><td></td><td ><pre></pre></td><td></td></tr><tr><td>Company_name</td><td>str</td><td></td><td ><pre></pre></td><td></td></tr><tr><td>Current_employee_estimate</td><td>int32</td><td></td><td ><pre></pre></td><td></td></tr><tr><td>Linkedin_URL</td><td>str</td><td></td><td ><pre></pre></td><td></td></tr><tr><td>Size_range</td><td>str</td><td></td><td ><pre></pre></td><td></td></tr><tr><td>Total_employee_estimate</td><td>int32</td><td></td><td ><pre></pre></td><td></td></tr><tr><td>Year_founded</td><td>int32</td><td></td><td ><pre></pre></td><td></td></tr><tr><td>lower_range</td><td>int32</td><td></td><td ><pre></pre></td><td></td></tr><tr><td>upper_range</td><td>int32</td><td></td><td ><pre></pre></td><td></td></tr><tr><td>city</td><td>str</td><td></td><td ><pre></pre></td><td></td></tr><tr><td>estate</td><td>str</td><td></td><td ><pre></pre></td><td></td></tr><tr><td>country</td><td>str</td><td></td><td ><pre></pre></td><td></td></tr></table><h2>Data:</h2><table>\n",
       "<thead>\n",
       "<tr><th>#                                    </th><th>Industry                      </th><th>Locality                            </th><th>Country      </th><th>Company_URL_domain                       </th><th>Company_name                        </th><th>Current_employee_estimate  </th><th>Linkedin_URL                                       </th><th>Size_range  </th><th>Total_employee_estimate  </th><th>Year_founded  </th><th>lower_range  </th><th>upper_range  </th><th>city       </th><th>estate       </th><th>country      </th></tr>\n",
       "</thead>\n",
       "<tbody>\n",
       "<tr><td>&lt;i style=&#x27;opacity: 0.6&#x27;&gt;0&lt;/i&gt;        </td><td>military                      </td><td>victorville,california,united states</td><td>united states</td><td>https://www.seniorplanningadvisors.com   </td><td>senior planning advisors            </td><td>1                          </td><td>&#x27;https://www.linkedin.com/company/senior-plannin...</td><td>1 - 10      </td><td>1                        </td><td>-2147483648   </td><td>1            </td><td>10           </td><td>victorville</td><td>california   </td><td>united states</td></tr>\n",
       "<tr><td>&lt;i style=&#x27;opacity: 0.6&#x27;&gt;1&lt;/i&gt;        </td><td>music                         </td><td>None                                </td><td>None         </td><td>https://www.dunedin-consort.org.uk       </td><td>dunedin consort                     </td><td>2                          </td><td>&#x27;https://www.linkedin.com/company/dunedin-consor...</td><td>1 - 10      </td><td>2                        </td><td>-2147483648   </td><td>1            </td><td>10           </td><td>None       </td><td>None         </td><td>None         </td></tr>\n",
       "<tr><td>&lt;i style=&#x27;opacity: 0.6&#x27;&gt;2&lt;/i&gt;        </td><td>education management          </td><td>None                                </td><td>None         </td><td>https://www.                             </td><td>detroit elementary school           </td><td>1                          </td><td>&#x27;https://www.linkedin.com/company/detroit-elemen...</td><td>1 - 10      </td><td>1                        </td><td>-2147483648   </td><td>1            </td><td>10           </td><td>None       </td><td>None         </td><td>None         </td></tr>\n",
       "<tr><td>&lt;i style=&#x27;opacity: 0.6&#x27;&gt;3&lt;/i&gt;        </td><td>alternative dispute resolution</td><td>None                                </td><td>None         </td><td>https://www.                             </td><td>cabinet ceeca                       </td><td>1                          </td><td>https://www.linkedin.com/company/cabinet-ceeca     </td><td>1 - 10      </td><td>1                        </td><td>-2147483648   </td><td>1            </td><td>10           </td><td>None       </td><td>None         </td><td>None         </td></tr>\n",
       "<tr><td>&lt;i style=&#x27;opacity: 0.6&#x27;&gt;4&lt;/i&gt;        </td><td>insurance                     </td><td>ludlow,massachusetts,united states  </td><td>united states</td><td>https://www.kbenefitgroup.com            </td><td>k benefit group, inc.               </td><td>1                          </td><td>&#x27;https://www.linkedin.com/company/k-benefit-grou...</td><td>1 - 10      </td><td>1                        </td><td>-2147483648   </td><td>1            </td><td>10           </td><td>ludlow     </td><td>massachusetts</td><td>united states</td></tr>\n",
       "<tr><td>...                                  </td><td>...                           </td><td>...                                 </td><td>...          </td><td>...                                      </td><td>...                                 </td><td>...                        </td><td>...                                                </td><td>...         </td><td>...                      </td><td>...           </td><td>...          </td><td>...          </td><td>...        </td><td>...          </td><td>...          </td></tr>\n",
       "<tr><td>&lt;i style=&#x27;opacity: 0.6&#x27;&gt;7,173,426&lt;/i&gt;</td><td>human resources               </td><td>                                    </td><td>             </td><td>https://www.next-point.co.il             </td><td>nextpoint - social media recruitment</td><td>2                          </td><td>&#x27;https://www.linkedin.com/company/next-point-soc...</td><td>1 - 10      </td><td>2                        </td><td>2011          </td><td>1            </td><td>10           </td><td>           </td><td>None         </td><td>None         </td></tr>\n",
       "<tr><td>&lt;i style=&#x27;opacity: 0.6&#x27;&gt;7,173,427&lt;/i&gt;</td><td>machinery                     </td><td>None                                </td><td>None         </td><td>https://www.industrialrentsinc.com       </td><td>industrial rents, inc.              </td><td>3                          </td><td>https://www.linkedin.com/company/industrial-rents  </td><td>1 - 10      </td><td>3                        </td><td>-2147483648   </td><td>1            </td><td>10           </td><td>None       </td><td>None         </td><td>None         </td></tr>\n",
       "<tr><td>&lt;i style=&#x27;opacity: 0.6&#x27;&gt;7,173,428&lt;/i&gt;</td><td>marketing and advertising     </td><td>None                                </td><td>None         </td><td>https://www.blueeggmarketing.com         </td><td>blue egg, llc                       </td><td>2                          </td><td>https://www.linkedin.com/company/blue-egg-llc      </td><td>1 - 10      </td><td>2                        </td><td>2008          </td><td>1            </td><td>10           </td><td>None       </td><td>None         </td><td>None         </td></tr>\n",
       "<tr><td>&lt;i style=&#x27;opacity: 0.6&#x27;&gt;7,173,429&lt;/i&gt;</td><td>music                         </td><td>                                    </td><td>             </td><td>https://www.willystreetchamberplayers.org</td><td>willy street chamber players        </td><td>2                          </td><td>&#x27;https://www.linkedin.com/company/willy-street-c...</td><td>1 - 10      </td><td>2                        </td><td>2015          </td><td>1            </td><td>10           </td><td>           </td><td>None         </td><td>None         </td></tr>\n",
       "<tr><td>&lt;i style=&#x27;opacity: 0.6&#x27;&gt;7,173,430&lt;/i&gt;</td><td>sports                        </td><td>huntington,vermont,united states    </td><td>united states</td><td>https://www.gameonvt.com                 </td><td>game on, llc                        </td><td>2                          </td><td>https://www.linkedin.com/company/game-on-llc       </td><td>1 - 10      </td><td>2                        </td><td>2009          </td><td>1            </td><td>10           </td><td>huntington </td><td>vermont      </td><td>united states</td></tr>\n",
       "</tbody>\n",
       "</table>"
      ],
      "text/plain": [
       "<IPython.core.display.HTML object>"
      ]
     },
     "metadata": {},
     "output_type": "display_data"
    }
   ],
   "source": [
    "#Cleaning, scaling down\n",
    "df[\"Total_employee_estimate\"] = df.Total_employee_estimate.astype('int')\n",
    "df[\"Current_employee_estimate\"] = df.Total_employee_estimate.astype('int')\n",
    "df[\"Year_founded\"] = df.Year_founded.astype('int')\n",
    "df['lower_range'] = df.Size_range.str.slice(start=0, stop=1).astype('int')\n",
    "df['upper_range'] = df.Size_range.str.slice(start=4, stop=6).astype('int')\n",
    "\n",
    "def city (locality):\n",
    "        try:\n",
    "            return str(locality.split(',')[0])\n",
    "        except:\n",
    "            return 'None'\n",
    "def estate (locality):\n",
    "    try:\n",
    "        return str(locality.split(',')[1])\n",
    "    except:\n",
    "        return 'None'\n",
    "def country (locality):\n",
    "    try:\n",
    "        return str(locality.split(',')[2])\n",
    "    except:\n",
    "        return 'None'\n",
    "\n",
    "df['city'] = df.Locality.apply(city)\n",
    "df['estate'] = df.Locality.apply(estate)\n",
    "df['country'] = df.Locality.apply(country)\n",
    "df.info()"
   ]
  },
  {
   "cell_type": "code",
   "execution_count": 4,
   "metadata": {},
   "outputs": [
    {
     "name": "stdout",
     "output_type": "stream",
     "text": [
      "[-9.54049757e+08 -6.44975943e+08 -6.22082344e+08 -6.00973491e+08]\n"
     ]
    }
   ],
   "source": [
    "#first descriptives\n",
    "df = df[((df.Year_founded<=2021)) & ((df.Current_employee_estimate>=0))]\n",
    "print(df.mean('Year_founded', binby=['Current_employee_estimate'], shape=4))"
   ]
  },
  {
   "cell_type": "code",
   "execution_count": 5,
   "metadata": {},
   "outputs": [
    {
     "name": "stdout",
     "output_type": "stream",
     "text": [
      "sample size: 7173411 mean # of employees: 32.25442805382265\n",
      "\n",
      " #    Industry                        mean_size           max_size\n",
      "0    null                            1.5564356230797614  468\n",
      "1    security and investigations     25.369113890890038  58905\n",
      "2    farming                         15.924033996319986  36162\n",
      "3    packaging and containers        31.043956743002546  22514\n",
      "4    computer software               26.212497647280255  276983\n",
      "...  ...                             ...                 ...\n",
      "144  luxury goods & jewelry          33.49920760697306   22222\n",
      "145  ranching                        7.902323580034423   938\n",
      "146  fishery                         12.100212314225054  5954\n",
      "147  legislative office              230.956106870229    38443\n",
      "148  alternative dispute resolution  9.735582581404472   2979\n",
      "\n",
      " #    Industry               count    Total_employee_estimate_mean    Total_employee_estimate_std\n",
      "0    null                   290003   1.5564356230797614              2.1954016496945536\n",
      "1    publishing             44375    29.465014084507043              287.94373783131215\n",
      "2    computer software      191268   26.212497647280255              731.1886235252505\n",
      "3    management consulting  194555   15.375194675027627              789.5371698293613\n",
      "4    financial services     170880   55.57361306179775               1636.9260035520829\n",
      "...  ...                    ...      ...                             ...\n",
      "144  railroad manufacture   1818     63.31298129812981               975.0451973709703\n",
      "145  semiconductors         7485     126.64288577154309              1993.849976984041\n",
      "146  fishery                2355     12.100212314225054              130.79450235804515\n",
      "147  nanotechnology         2536     16.45070977917981               67.47103549235806\n",
      "148  legislative office     524      230.956106870229                1875.3529204706158\n"
     ]
    }
   ],
   "source": [
    "print(\"sample size:\", df.count(), \"mean # of employees:\", df.mean(df.Total_employee_estimate))\n",
    "print(\"\\n\", df.groupby(by='Industry', agg={'mean_size': vaex.agg.mean('Current_employee_estimate'), 'max_size': vaex.agg.max('Current_employee_estimate')}))\n",
    "print(\"\\n\", df.groupby(by='Industry').agg({'Industry': 'count','Total_employee_estimate': ['mean', 'std']}))"
   ]
  },
  {
   "cell_type": "code",
   "execution_count": 6,
   "metadata": {},
   "outputs": [
    {
     "data": {
      "image/png": "[encoded data removed]",
      "text/plain": [
       "<Figure size 432x288 with 1 Axes>"
      ]
     },
     "metadata": {
      "needs_background": "light"
     },
     "output_type": "display_data"
    }
   ],
   "source": [
    "SMALL_SIZE = 12\n",
    "MEDIUM_SIZE = 14\n",
    "BIGGER_SIZE = 16\n",
    "\n",
    "plt.rc('font', size=SMALL_SIZE)          # controls default text sizes\n",
    "plt.rc('axes', titlesize=SMALL_SIZE)     # fontsize of the axes title\n",
    "plt.rc('axes', labelsize=MEDIUM_SIZE)    # fontsize of the x and y labels\n",
    "plt.rc('xtick', labelsize=SMALL_SIZE)    # fontsize of the tick labels\n",
    "plt.rc('ytick', labelsize=SMALL_SIZE)    # fontsize of the tick labels\n",
    "plt.rc('legend', fontsize=SMALL_SIZE)    # legend fontsize\n",
    "plt.rc('figure', titlesize=BIGGER_SIZE)  # fontsize of the figure title\n",
    "\n",
    "years = [1900, 2013]\n",
    "bins = 1000\n",
    "counts_x = df.count(binby=df.Year_founded, limits=years, shape=bins)\n",
    "counts_x\n",
    "\n",
    "plt.plot(np.linspace(years[0], years [1], bins), counts_x)\n",
    "plt.show()\n",
    "\n",
    "### https://vaex.readthedocs.io/en/latest/tutorial.html"
   ]
  },
  {
   "cell_type": "code",
   "execution_count": 9,
   "metadata": {},
   "outputs": [
    {
     "data": {
      "text/plain": [
       "<AxesSubplot:>"
      ]
     },
     "execution_count": 9,
     "metadata": {},
     "output_type": "execute_result"
    },
    {
     "data": {
      "image/png": "[encoded data removed]",
      "text/plain": [
       "<Figure size 432x288 with 1 Axes>"
      ]
     },
     "metadata": {
      "needs_background": "light"
     },
     "output_type": "display_data"
    }
   ],
   "source": [
    "companies_years = df.Year_founded.value_counts()\n",
    "sns.barplot(x=companies_years.index, y=companies_years.values)"
   ]
  },
  {
   "cell_type": "code",
   "execution_count": null,
   "metadata": {},
   "outputs": [],
   "source": []
  }
 ],
 "metadata": {
  "kernelspec": {
   "display_name": "Python 3",
   "language": "python",
   "name": "python3"
  },
  "language_info": {
   "codemirror_mode": {
    "name": "ipython",
    "version": 3
   },
   "file_extension": ".py",
   "mimetype": "text/x-python",
   "name": "python",
   "nbconvert_exporter": "python",
   "pygments_lexer": "ipython3",
   "version": "3.7.4"
  },
  "toc-autonumbering": true,
  "toc-showcode": false,
  "toc-showmarkdowntxt": false,
  "widgets": {
   "application/vnd.jupyter.widget-state+json": {
    "state": {},
    "version_major": 2,
    "version_minor": 0
   }
  }
 },
 "nbformat": 4,
 "nbformat_minor": 4
}
