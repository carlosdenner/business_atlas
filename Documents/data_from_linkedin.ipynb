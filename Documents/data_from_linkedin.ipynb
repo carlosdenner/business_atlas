{
 "cells": [
  {
   "cell_type": "code",
   "execution_count": null,
   "metadata": {
    "tags": []
   },
   "outputs": [],
   "source": [
    "import vaex\n",
    "import matplotlib\n",
    "from vaex.ui.colormaps import cm_plusmin\n",
    "import matplotlib.pyplot as plt\n",
    "import numpy as np\n",
    "import seaborn as sns\n",
    "\n",
    "##routine to split csv, SLOW: Run one time and then comment the line!\n",
    "\n",
    "#df = vaex.from_csv(r'C:\\Users\\carlo\\Dropbox\\xampp2\\mysql\\data\\business_navigator\\companies-on-linkedin.csv', header=0, sep=';', convert=True, chunk_size=1_000_000)\n",
    "df = vaex.open(r'companies-on-linkedin.csv.hdf5')"
   ]
  },
  {
   "cell_type": "code",
   "execution_count": null,
   "metadata": {
    "tags": []
   },
   "outputs": [],
   "source": [
    "#Cleaning, scaling down\n",
    "df[\"Total_employee_estimate\"] = df.Total_employee_estimate.astype('int')\n",
    "df[\"Current_employee_estimate\"] = df.Total_employee_estimate.astype('int')\n",
    "df[\"Year_founded\"] = df.Year_founded.astype('int')\n",
    "df['lower_range'] = df.Size_range.str.slice(start=0, stop=1).astype('int')\n",
    "df['upper_range'] = df.Size_range.str.slice(start=4, stop=6).astype('int')\n",
    "\n",
    "def city (locality):\n",
    "        try:\n",
    "            return str(locality.split(',')[0])\n",
    "        except:\n",
    "            return 'None'\n",
    "def estate (locality):\n",
    "    try:\n",
    "        return str(locality.split(',')[1])\n",
    "    except:\n",
    "        return 'None'\n",
    "def country (locality):\n",
    "    try:\n",
    "        return str(locality.split(',')[2])\n",
    "    except:\n",
    "        return 'None'\n",
    "\n",
    "df['city'] = df.Locality.apply(city)\n",
    "df['estate'] = df.Locality.apply(estate)\n",
    "df['country'] = df.Locality.apply(country)\n",
    "df.info()"
   ]
  },
  {
   "cell_type": "code",
   "execution_count": null,
   "metadata": {},
   "outputs": [],
   "source": [
    "#first descriptives\n",
    "df = df[((df.Year_founded<=2021)) & ((df.Current_employee_estimate>=0))]\n",
    "print(df.mean('Year_founded', binby=['Current_employee_estimate'], shape=4))"
   ]
  },
  {
   "cell_type": "code",
   "execution_count": null,
   "metadata": {},
   "outputs": [],
   "source": [
    "print(\"sample size:\", df.count(), \"mean # of employees:\", df.mean(df.Total_employee_estimate))\n",
    "print(\"\\n\", df.groupby(by='Industry', agg={'mean_size': vaex.agg.mean('Current_employee_estimate'), 'max_size': vaex.agg.max('Current_employee_estimate')}))\n",
    "print(\"\\n\", df.groupby(by='Industry').agg({'Industry': 'count','Total_employee_estimate': ['mean', 'std']}))"
   ]
  },
  {
   "cell_type": "code",
   "execution_count": null,
   "metadata": {},
   "outputs": [],
   "source": [
    "SMALL_SIZE = 12\n",
    "MEDIUM_SIZE = 14\n",
    "BIGGER_SIZE = 16\n",
    "\n",
    "plt.rc('font', size=SMALL_SIZE)          # controls default text sizes\n",
    "plt.rc('axes', titlesize=SMALL_SIZE)     # fontsize of the axes title\n",
    "plt.rc('axes', labelsize=MEDIUM_SIZE)    # fontsize of the x and y labels\n",
    "plt.rc('xtick', labelsize=SMALL_SIZE)    # fontsize of the tick labels\n",
    "plt.rc('ytick', labelsize=SMALL_SIZE)    # fontsize of the tick labels\n",
    "plt.rc('legend', fontsize=SMALL_SIZE)    # legend fontsize\n",
    "plt.rc('figure', titlesize=BIGGER_SIZE)  # fontsize of the figure title\n",
    "\n",
    "years = [1900, 2013]\n",
    "bins = 1000\n",
    "counts_x = df.count(binby=df.Year_founded, limits=years, shape=bins)\n",
    "counts_x\n",
    "\n",
    "graph1 = plt.plot(np.linspace(years[0], years [1], bins), counts_x)\n",
    "graph1.savefig('graph1.jpg')\n",
    "\n",
    "### https://vaex.readthedocs.io/en/latest/tutorial.html"
   ]
  },
  {
   "cell_type": "code",
   "execution_count": null,
   "metadata": {},
   "outputs": [],
   "source": [
    "companies_years = df.Year_founded.value_counts()\n",
    "sns.barplot(x=companies_years.index, y=companies_years.values)"
   ]
  },
  {
   "cell_type": "code",
   "execution_count": null,
   "metadata": {},
   "outputs": [],
   "source": []
  }
 ],
 "metadata": {
  "interpreter": {
   "hash": "cf0796b4ae03948bde92551f8035d04161aa6d2e35b7189076caaaefe5473a55"
  },
  "kernelspec": {
   "display_name": "Python 3.8.10 64-bit ('env': venv)",
   "name": "python3"
  },
  "language_info": {
   "codemirror_mode": {
    "name": "ipython",
    "version": 3
   },
   "file_extension": ".py",
   "mimetype": "text/x-python",
   "name": "python",
   "nbconvert_exporter": "python",
   "pygments_lexer": "ipython3",
   "version": "3.8.10"
  },
  "toc-autonumbering": true,
  "toc-showcode": false,
  "toc-showmarkdowntxt": false,
  "widgets": {
   "application/vnd.jupyter.widget-state+json": {
    "state": {},
    "version_major": 2,
    "version_minor": 0
   }
  }
 },
 "nbformat": 4,
 "nbformat_minor": 4
}
