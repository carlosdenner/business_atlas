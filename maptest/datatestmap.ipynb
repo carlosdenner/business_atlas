{
 "cells": [
  {
   "cell_type": "code",
   "execution_count": 1,
   "metadata": {},
   "outputs": [
    {
     "data": {
      "text/html": [
       "        <script type=\"text/javascript\">\n",
       "        window.PlotlyConfig = {MathJaxConfig: 'local'};\n",
       "        if (window.MathJax) {MathJax.Hub.Config({SVG: {font: \"STIX-Web\"}});}\n",
       "        if (typeof require !== 'undefined') {\n",
       "        require.undef(\"plotly\");\n",
       "        requirejs.config({\n",
       "            paths: {\n",
       "                'plotly': ['https://cdn.plot.ly/plotly-latest.min']\n",
       "            }\n",
       "        });\n",
       "        require(['plotly'], function(Plotly) {\n",
       "            window._Plotly = Plotly;\n",
       "        });\n",
       "        }\n",
       "        </script>\n",
       "        "
      ]
     },
     "metadata": {},
     "output_type": "display_data"
    }
   ],
   "source": [
    "import numpy as np \n",
    "import pandas as pd \n",
    "import plotly as py\n",
    "import vaex\n",
    "import matplotlib.pyplot as plt\n",
    "import plotly.express as px\n",
    "import os\n",
    "import plotly.graph_objs as go\n",
    "from plotly.subplots import make_subplots\n",
    "from plotly.offline import download_plotlyjs, init_notebook_mode, plot, iplot\n",
    "init_notebook_mode(connected=True)"
   ]
  },
  {
   "cell_type": "code",
   "execution_count": null,
   "metadata": {},
   "outputs": [],
   "source": [
    "dfInicial = vaex.open(\"../Databases/companies/output_chunk-*.csv\")"
   ]
  },
  {
   "cell_type": "code",
   "execution_count": null,
   "metadata": {},
   "outputs": [],
   "source": [
    "dfCountriesTotal = vaex.open(\"../DataSetExtractions/countriesTotal.csv\")"
   ]
  },
  {
   "cell_type": "code",
   "execution_count": null,
   "metadata": {},
   "outputs": [],
   "source": [
    "print(\"Os dados foram extraídos dos seguintes conjuntos de dados:\")\n",
    "print(dfInicial.describe())"
   ]
  },
  {
   "cell_type": "code",
   "execution_count": null,
   "metadata": {},
   "outputs": [],
   "source": [
    "print(\"Gerando a seguinte tabela:\")\n",
    "print(dfCountriesTotal.describe())"
   ]
  },
  {
   "cell_type": "code",
   "execution_count": null,
   "metadata": {},
   "outputs": [],
   "source": [
    "pandasDfCountriesTotal =  dfCountriesTotal.to_pandas_df()\n",
    "print(\"Amostra dos dados presentes no dataset, após agruparmos as empresas por país:\")\n",
    "print(dfCountriesTotal.head(3)) "
   ]
  },
  {
   "cell_type": "code",
   "execution_count": null,
   "metadata": {},
   "outputs": [],
   "source": [
    "print('Países com maior número total de indústrias:')\n",
    "print(pandasDfCountriesTotal.nlargest(10, 'Industry'))"
   ]
  },
  {
   "cell_type": "code",
   "execution_count": null,
   "metadata": {},
   "outputs": [],
   "source": [
    "print('Países com maior tamanho médio de indústrias:')\n",
    "print(pandasDfCountriesTotal.nlargest(10, 'mean_size'))"
   ]
  },
  {
   "cell_type": "code",
   "execution_count": null,
   "metadata": {},
   "outputs": [],
   "source": [
    "print('Países com maior tamanho máximo de indústrias:')\n",
    "print(pandasDfCountriesTotal.nlargest(10, 'max_size'))"
   ]
  },
  {
   "cell_type": "markdown",
   "metadata": {},
   "source": [
    "odo: prosseguir na descrição<br>\n"
   ]
  },
  {
   "cell_type": "code",
   "execution_count": null,
   "metadata": {},
   "outputs": [],
   "source": [
    "DfCountriesTotal = vaex.from_pandas(df=pandasDfCountriesTotal, copy_index=True)\n",
    "df_countries = DfCountriesTotal[\"Country\"].tolist()\n",
    "Industries = DfCountriesTotal[\"Industry\"].tolist()"
   ]
  },
  {
   "cell_type": "code",
   "execution_count": null,
   "metadata": {},
   "outputs": [],
   "source": [
    "print(type(df_countries))"
   ]
  },
  {
   "cell_type": "code",
   "execution_count": null,
   "metadata": {},
   "outputs": [],
   "source": [
    "fig = go.Figure(data=go.Choropleth(\n",
    "    locations = df_countries,\n",
    "    locationmode = 'country names',\n",
    "    z = Industries,\n",
    "    colorscale = 'Reds',\n",
    "    marker_line_color = 'black',\n",
    "    marker_line_width = 0.5,\n",
    "))"
   ]
  },
  {
   "cell_type": "code",
   "execution_count": null,
   "metadata": {},
   "outputs": [],
   "source": [
    "print('Exibição de um mapa:')\n",
    "fig.show()"
   ]
  },
  {
   "cell_type": "code",
   "execution_count": null,
   "metadata": {},
   "outputs": [],
   "source": [
    "print(\"Impressão do mapa\")\n",
    "fig.write_html(file='maostat.html')\n",
    "#fig.update_layout(\n",
    "#    title_text = 'Confirmed Cases as of March 28, 2020',\n",
    "#    title_x = 0.5,\n",
    "#    geo=dict(\n",
    "#        showframe = False,\n",
    "#        showcoastlines = False,\n",
    "#        projection_type = 'equirectangular'\n",
    "#3    )\n",
    "#)"
   ]
  },
  {
   "cell_type": "markdown",
   "metadata": {},
   "source": [
    "f_countrydate = df[df['Confirmed']>0]<br>\n",
    "f_countrydate = df_countrydate.groupby(['Date','Country']).sum().reset_index()<br>\n",
    "f_countrydate"
   ]
  },
  {
   "cell_type": "markdown",
   "metadata": {},
   "source": [
    "ig = px.choropleth(df_countrydate, <br>\n",
    "                   locations=\"Country\", <br>\n",
    "                   locationmode = \"country names\",<br>\n",
    "                   color=\"Confirmed\", <br>\n",
    "                   hover_name=\"Country\", <br>\n",
    "                   animation_frame=\"Date\"<br>\n",
    "                  )<br>\n",
    "ig.update_layout(<br>\n",
    "   title_text = 'Global Spread of Coronavirus',<br>\n",
    "   title_x = 0.5,<br>\n",
    "   geo=dict(<br>\n",
    "       showframe = False,<br>\n",
    "       showcoastlines = False,<br>\n",
    "   ))"
   ]
  },
  {
   "cell_type": "code",
   "execution_count": null,
   "metadata": {},
   "outputs": [],
   "source": [
    "    \n",
    "#fig.show()"
   ]
  }
 ],
 "metadata": {
  "kernelspec": {
   "display_name": "Python 3 (ipykernel)",
   "language": "python",
   "name": "python3"
  },
  "language_info": {
   "codemirror_mode": {
    "name": "ipython",
    "version": 3
   },
   "file_extension": ".py",
   "mimetype": "text/x-python",
   "name": "python",
   "nbconvert_exporter": "python",
   "pygments_lexer": "ipython3",
   "version": "3.8.11"
  },
  "widgets": {
   "application/vnd.jupyter.widget-state+json": {
    "state": {},
    "version_major": 2,
    "version_minor": 0
   }
  }
 },
 "nbformat": 4,
 "nbformat_minor": 4
}
